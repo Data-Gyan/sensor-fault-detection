{
 "cells": [
  {
   "cell_type": "code",
   "execution_count": 3,
   "metadata": {},
   "outputs": [],
   "source": [
    "import sys"
   ]
  },
  {
   "cell_type": "code",
   "execution_count": 6,
   "metadata": {},
   "outputs": [],
   "source": [
    "def error_fun(error_text:sys):\n",
    "    _, _, info = error_text.exc_info()\n",
    "    return info"
   ]
  },
  {
   "cell_type": "code",
   "execution_count": 7,
   "metadata": {},
   "outputs": [
    {
     "ename": "AttributeError",
     "evalue": "'str' object has no attribute 'exc_info'",
     "output_type": "error",
     "traceback": [
      "\u001b[0;31m---------------------------------------------------------------------------\u001b[0m",
      "\u001b[0;31mAttributeError\u001b[0m                            Traceback (most recent call last)",
      "Cell \u001b[0;32mIn [7], line 1\u001b[0m\n\u001b[0;32m----> 1\u001b[0m error_fun(\u001b[39m\"\u001b[39;49m\u001b[39mSampleText\u001b[39;49m\u001b[39m\"\u001b[39;49m)\n",
      "Cell \u001b[0;32mIn [6], line 2\u001b[0m, in \u001b[0;36merror_fun\u001b[0;34m(error_text)\u001b[0m\n\u001b[1;32m      1\u001b[0m \u001b[39mdef\u001b[39;00m \u001b[39merror_fun\u001b[39m(error_text:sys):\n\u001b[0;32m----> 2\u001b[0m     _, _, info \u001b[39m=\u001b[39m error_text\u001b[39m.\u001b[39;49mexc_info()\n\u001b[1;32m      3\u001b[0m     \u001b[39mreturn\u001b[39;00m info\n",
      "\u001b[0;31mAttributeError\u001b[0m: 'str' object has no attribute 'exc_info'"
     ]
    }
   ],
   "source": [
    "error_fun(\"SampleText\")"
   ]
  },
  {
   "cell_type": "code",
   "execution_count": null,
   "metadata": {},
   "outputs": [],
   "source": []
  }
 ],
 "metadata": {
  "kernelspec": {
   "display_name": "Python 3.8.0 64-bit ('venv')",
   "language": "python",
   "name": "python3"
  },
  "language_info": {
   "codemirror_mode": {
    "name": "ipython",
    "version": 3
   },
   "file_extension": ".py",
   "mimetype": "text/x-python",
   "name": "python",
   "nbconvert_exporter": "python",
   "pygments_lexer": "ipython3",
   "version": "3.8.0"
  },
  "orig_nbformat": 4,
  "vscode": {
   "interpreter": {
    "hash": "c02ff12c7a4cf41d0dab12a423618fec6c4461459f792a225f53962f14df3511"
   }
  }
 },
 "nbformat": 4,
 "nbformat_minor": 2
}
